{
 "cells": [
  {
   "cell_type": "markdown",
   "metadata": {},
   "source": [
    "### Chapter 01. 파이썬 들여다보기"
   ]
  },
  {
   "cell_type": "markdown",
   "metadata": {},
   "source": [
    "#### Section 01. 프로그래밍 언어의 개념과 종류\n",
    "프로그래밍 언어: 컴퓨터가 이해하는 말로 컴퓨터에서 작동하는 소프트웨어를 만드는 도구  \n",
    "프로그래머: 프로그래밍 언어를 사용해 소프트웨어나 앱을 만드는 사람  \n",
    "  \n",
    "<b>프로그래밍 언어의 종류:</b>  \n",
    "수백 가지가 넘는 종류 중 많이 사용되는 프로그래밍 언어: C/C++, 자바(Java), HTML, PHP, 파이썬"
   ]
  },
  {
   "cell_type": "markdown",
   "metadata": {},
   "source": [
    "#### Section 02. 파이썬 소개\n",
    "<b>파이썬의 역사</b>  \n",
    "   1.  배우기도 쉽고 결과도 바로 확인할 수 있어 초보자에게 적합한 프로그래밍 언어\n",
    "   2. 귀도 반 로섬(1956년~)이라는 프로그래머가 C 언어로 제작해 1991년에 공식으로 발표\n",
    "   3. 사전적인 의미: 비단뱀으로 로고도 파란색과 노란색 비단뱀 두 마리가 서로 얽혀 있는 형태  \n",
    "  \n",
    "  \n",
    "   \n",
    "<b>파이썬 특징:</b>\n",
    "   1. 강력한 기능을 무료로 사용(오픈소스)\n",
    "   2. 직관적인 코드 이용\n",
    "   3. 사물인터넷과 잘 연동된다 (라즈베리파이 기반의 사물인터넷이 파이썬을 지원)\n",
    "   4. 다양하고 강력한 외부 라이브러리들이 풍부하다\n",
    "   5. 강력한 웹 프레임워크 사용 가능 (Django, Flask)\n",
    "   6. 느린 속도 (컴파일러 언어가 아닌 스크립트 언어)\n",
    "   7. 모바일 컴퓨팅 분야에 지원이 약하고 하드웨어 제어 등과 관련된 부분 사용이 어려움"
   ]
  },
  {
   "cell_type": "markdown",
   "metadata": {},
   "source": [
    "<b>컴파일러 언어 & 스크립트 언어</b>\n",
    "    \n",
    "  1. 컴파일러 언어: 소스 코드를 실행 가능한 기계어로 일괄 번역한 후 번역이 완료된 파일(exe/clss)을 실행하는 언어  \n",
    "- 컴파일: 소스 코드를 기계어로 번역하는 과정  \n",
    "- 실행 속도가 빠르다\n",
    "- 예: C/C++, 자바  \n",
    "  \n",
    "  \n",
    "  \n",
    "  2. 스크립트 언어(인터프리터 언어): 소스 코드를 한 줄씩 읽어 실행되어 별도의 실행 파일 생성되지 않는 언어\n",
    "- 인터프리터: 한 줄씩 처리하는 프로그램\n",
    "- 배우는 속도가 빠르다\n",
    "- 예: 파이썬, 자바스크립트, 펄"
   ]
  },
  {
   "cell_type": "markdown",
   "metadata": {},
   "source": [
    "#### 예제)"
   ]
  },
  {
   "cell_type": "code",
   "execution_count": 1,
   "metadata": {},
   "outputs": [
    {
     "name": "stdout",
     "output_type": "stream",
     "text": [
      "Hello, world!\n"
     ]
    }
   ],
   "source": [
    "print(\"Hello, world!\")"
   ]
  },
  {
   "cell_type": "code",
   "execution_count": 2,
   "metadata": {},
   "outputs": [
    {
     "data": {
      "text/plain": [
       "30"
      ]
     },
     "execution_count": 2,
     "metadata": {},
     "output_type": "execute_result"
    }
   ],
   "source": [
    "10+20"
   ]
  },
  {
   "cell_type": "code",
   "execution_count": 3,
   "metadata": {
    "scrolled": false
   },
   "outputs": [
    {
     "data": {
      "text/plain": [
       "233885"
      ]
     },
     "execution_count": 3,
     "metadata": {},
     "output_type": "execute_result"
    }
   ],
   "source": [
    "9876*27-32767"
   ]
  },
  {
   "cell_type": "markdown",
   "metadata": {},
   "source": [
    "### 1장 연습문제"
   ]
  },
  {
   "cell_type": "markdown",
   "metadata": {},
   "source": [
    "#### 1. 다음 중 컴퓨터와 관련 없는 것을 하나 고르시오.\n",
    "프로그래밍 언어, 소프트웨어, 앱, 프로그래머, 사람의 언어<br>\n",
    "답: 사람의 언어"
   ]
  },
  {
   "cell_type": "markdown",
   "metadata": {},
   "source": [
    "#### 2. 다음 중 프로그래밍 언어가 아닌 것을 고르시오.\n",
    "파이썬, 자바, B++, C, HTML, PHP<br>\n",
    "답: B++"
   ]
  },
  {
   "cell_type": "markdown",
   "metadata": {},
   "source": [
    "#### 3. 파이썬의 특징에 대한 설명 중 틀린 것은?\n",
    "① 프로그래밍 언어이다.<br>\n",
    "② 비단뱀이라는 뜻이다.<br>\n",
    "③ 귀도 반 로섬이라는 프로그래머가 만들었다.<br>\n",
    "④ 다른 프로그래밍 언어에 비해서 가장 전통이 오래되어 그 기능이 막강하다.<br>\n",
    "⑤ 개인에게 상당히 인기가 있지만, 기업 시장에는 아직 진출하지 못했다.<br>\n",
    "⑥ 개인 사용자에게는 무료이지만, 학교나 기업 등은 유료로 사용해야 한다.<br>\n",
    "<br>\n",
    "답: ④ "
   ]
  },
  {
   "cell_type": "markdown",
   "metadata": {},
   "source": [
    "#### 4. 파이썬 설치에 대한 설명 중 틀린 것은?\n",
    "① 윈도용 설치 파일의 확장자는 exe이다.<br>\n",
    "② 설치 과정이 매우 간단하다.<br>\n",
    "③ 윈도, 맥, 리눅스 등에 모두 설치할 수 있다.<br>\n",
    "④ 설치 과정에서 설치되는 폴더를 바꿀 수 없다.<br>\n",
    "<br>\n",
    "답: ④ "
   ]
  },
  {
   "cell_type": "markdown",
   "metadata": {},
   "source": [
    "#### 5.  다음 실행 결과가 나타나도록 프로그램을 작성하시오.\n",
    "아… 파이썬 너무 재미있어요. ^^"
   ]
  },
  {
   "cell_type": "code",
   "execution_count": 2,
   "metadata": {},
   "outputs": [
    {
     "name": "stdout",
     "output_type": "stream",
     "text": [
      "아… 파이썬 너무 재미있어요. ^^\n"
     ]
    }
   ],
   "source": [
    "print(\"아… 파이썬 너무 재미있어요. ^^\")"
   ]
  },
  {
   "cell_type": "markdown",
   "metadata": {},
   "source": [
    "#### 6. 다음 코드의 실행 결과를 쓰시오.\n",
    "print(“11 + 22 - 33”)<br>\n",
    "print(안녕? 파이썬) > 오류"
   ]
  },
  {
   "cell_type": "code",
   "execution_count": 4,
   "metadata": {},
   "outputs": [
    {
     "name": "stdout",
     "output_type": "stream",
     "text": [
      "11+22-33\n"
     ]
    }
   ],
   "source": [
    "print(\"11+22-33\")"
   ]
  }
 ],
 "metadata": {
  "kernelspec": {
   "display_name": "Python 3",
   "language": "python",
   "name": "python3"
  },
  "language_info": {
   "codemirror_mode": {
    "name": "ipython",
    "version": 3
   },
   "file_extension": ".py",
   "mimetype": "text/x-python",
   "name": "python",
   "nbconvert_exporter": "python",
   "pygments_lexer": "ipython3",
   "version": "3.7.6"
  }
 },
 "nbformat": 4,
 "nbformat_minor": 4
}
